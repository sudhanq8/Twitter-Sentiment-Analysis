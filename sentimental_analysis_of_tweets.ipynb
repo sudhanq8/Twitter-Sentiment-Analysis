{
  "nbformat": 4,
  "nbformat_minor": 0,
  "metadata": {
    "colab": {
      "provenance": []
    },
    "kernelspec": {
      "name": "python3",
      "display_name": "Python 3"
    },
    "language_info": {
      "name": "python"
    }
  },
  "cells": [
    {
      "cell_type": "markdown",
      "source": [
        "**Sentimental Analysis of Tweets using snscrape**\n",
        "\n",
        "Here we are using snscrape and vader package from nltk to analyse tweets on the queen Elizabeth death\n",
        "We are using 4 parameters\n",
        "\n",
        "\n",
        "*   Text query = queen dies\n",
        "*   number of tweets =1000\n",
        "\n",
        "*   start and end date"
      ],
      "metadata": {
        "id": "yrOJf2HEOD2Q"
      }
    },
    {
      "cell_type": "code",
      "source": [
        "!pip install -q snscrape==0.3.4"
      ],
      "metadata": {
        "id": "2U8QLomp7vYN"
      },
      "execution_count": 60,
      "outputs": []
    },
    {
      "cell_type": "code",
      "execution_count": 75,
      "metadata": {
        "id": "CQFsxRU55RW-"
      },
      "outputs": [],
      "source": [
        "import os\n",
        "import pandas as pd\n",
        "import numpy\n",
        "from datetime import date\n",
        "import matplotlib.pyplot as plt"
      ]
    },
    {
      "cell_type": "code",
      "source": [
        "tweet_count=1000\n",
        "today=date.today()\n",
        "text_query='Queen dies'\n",
        "from_date='2021-09-07'\n",
        "to_date=today\n"
      ],
      "metadata": {
        "id": "NrU8vAb85eKH"
      },
      "execution_count": 62,
      "outputs": []
    },
    {
      "cell_type": "markdown",
      "source": [
        "**extracting tweets links using snscrape**"
      ],
      "metadata": {
        "id": "1CIdXVz-QEXs"
      }
    },
    {
      "cell_type": "code",
      "source": [
        "\n",
        "os.system(f\"snscrape --max-results {tweet_count} --since {from_date} twitter-search '{text_query} until:{to_date}' > result-tweets.txt\")\n",
        "if os.stat(\"result-tweets.txt\").st_size == 0:\n",
        "  counter = 0\n",
        "else:\n",
        "  df = pd.read_csv('result-tweets.txt', names=['link'])\n",
        "  counter = df.size\n",
        "\n",
        "print('Number Of Tweets : '+ str(counter))"
      ],
      "metadata": {
        "colab": {
          "base_uri": "https://localhost:8080/"
        },
        "id": "BRvx1dARDlv7",
        "outputId": "5d87f825-0950-4232-8121-52e8790afbdd"
      },
      "execution_count": 53,
      "outputs": [
        {
          "output_type": "stream",
          "name": "stdout",
          "text": [
            "Number Of Tweets : 1000\n"
          ]
        }
      ]
    },
    {
      "cell_type": "code",
      "source": [
        "df.head"
      ],
      "metadata": {
        "colab": {
          "base_uri": "https://localhost:8080/"
        },
        "id": "wHUANjBkoKbX",
        "outputId": "f85a10d3-b819-4c4f-96bf-eb60ead05c27"
      },
      "execution_count": 54,
      "outputs": [
        {
          "output_type": "execute_result",
          "data": {
            "text/plain": [
              "<bound method NDFrame.head of                                                   link\n",
              "0    https://twitter.com/NewYorkTroll/status/156875...\n",
              "1    https://twitter.com/PJEvans66030270/status/156...\n",
              "2    https://twitter.com/WXYNEKYLE/status/156875116...\n",
              "3    https://twitter.com/rickb180675/status/1568751...\n",
              "4    https://twitter.com/Joeyjonz/status/1568751161...\n",
              "..                                                 ...\n",
              "995  https://twitter.com/StuDiligence/status/156874...\n",
              "996  https://twitter.com/WeebJeet/status/1568749953...\n",
              "997  https://twitter.com/LATNO2/status/156874995286...\n",
              "998  https://twitter.com/robert811399/status/156874...\n",
              "999  https://twitter.com/WillaHawn/status/156874994...\n",
              "\n",
              "[1000 rows x 1 columns]>"
            ]
          },
          "metadata": {},
          "execution_count": 54
        }
      ]
    },
    {
      "cell_type": "markdown",
      "source": [
        "**Extracting Exact Tweets**"
      ],
      "metadata": {
        "id": "4Ccdxqb0on9q"
      }
    },
    {
      "cell_type": "code",
      "source": [
        "extracted_tweets = \"snscrape --format '{content!r}'\"+ f\" --max-results {tweet_count} --since {from_date} twitter-search '{text_query} until:{to_date}' > extracted_tweets.txt\"\n",
        "os.system(extracted_tweets)\n",
        "\n",
        "if os.stat(\"extracted_tweets.txt\").st_size == 0:\n",
        "  print('No Tweets found')\n",
        "else:\n",
        "  dfcontent=pd.read_csv('extracted_tweets.txt', names=['content'])\n",
        "  content_size=dfcontent.size\n",
        "  dfcontent.head()\n",
        "print('number of actual tweets' + str(dfcontent))"
      ],
      "metadata": {
        "colab": {
          "base_uri": "https://localhost:8080/"
        },
        "id": "uphwfp8Los7P",
        "outputId": "525ab203-9547-4ad1-fe75-95cb02163158"
      },
      "execution_count": 63,
      "outputs": [
        {
          "output_type": "stream",
          "name": "stdout",
          "text": [
            "number of actual tweets                                                                                              content\n",
            "'@filled_popcorn They will choke ooo                                            let them die abeg 😂😂'\n",
            "@brittanygadoury A Queen who wacked birds in th...                                                NaN\n",
            "'@starry_velvet @HealeyErika The queen dies and...                                                NaN\n",
            "'the queen dies and somehow the british media h...                                                NaN\n",
            "'Video: Die Queen ist tot – #das zweite elisabe...                                                NaN\n",
            "...                                                                                               ...\n",
            "'1) Queen dies\\n2) Football postponed\\n3) Crist...   sale of vegetables outlawed https://t.co/UXEP...\n",
            "'One Queen dies and another returns https://t.c...                                                NaN\n",
            "'I don’t get it anymore.\\n- ETH goes up                                 NFTs go down\\n- ETH goes down\n",
            "'The Queen dies: Look back at Elizabeth II’s cl...   bright outfits and matching\\xa0hats https://t...\n",
            "'@aurelmertz Was waren denn die Kolonialverbrec...                                                NaN\n",
            "\n",
            "[996 rows x 1 columns]\n"
          ]
        }
      ]
    },
    {
      "cell_type": "markdown",
      "source": [
        "**creating a function which cleans data by removing user names(words beginning with @)**"
      ],
      "metadata": {
        "id": "rjPDicraQSS2"
      }
    },
    {
      "cell_type": "code",
      "source": [
        "def tweet_cleaner(tweet):\n",
        "    split_list = tweet.split(\" \")\n",
        "    cleaned_list = [w for w in split_list if w.find(\"@\") < 0]\n",
        "    cleaned_tweet = \" \".join([i for i in cleaned_list])\n",
        "    \n",
        "    return cleaned_tweet"
      ],
      "metadata": {
        "id": "SBO96hILtEwB"
      },
      "execution_count": 64,
      "outputs": []
    },
    {
      "cell_type": "code",
      "source": [
        "dfcontent = dfcontent[dfcontent['content'].notnull()]\n",
        "dfcontent['cleaned_tweets'] = dfcontent['content'].apply(lambda x: tweet_cleaner(x))\n",
        "dfcontent.tail()"
      ],
      "metadata": {
        "colab": {
          "base_uri": "https://localhost:8080/",
          "height": 320
        },
        "id": "flyOg_x8tZzq",
        "outputId": "130691ae-1942-423c-e602-7a3bfc9e8d33"
      },
      "execution_count": 74,
      "outputs": [
        {
          "output_type": "execute_result",
          "data": {
            "text/plain": [
              "                                                                                              content  \\\n",
              "'Herzogin Meghan begleitete Prinz Harry nicht        als die Queen verstarb. Jetzt könnte sie auch...   \n",
              "'Queen Elizabeth II - Committed Christian            Dies at 96 - End of an Era on Paul’s Defense ...   \n",
              "'1) Queen dies\\n2) Football postponed\\n3) Crist...   sale of vegetables outlawed https://t.co/UXEP...   \n",
              "'I don’t get it anymore.\\n- ETH goes up                                 NFTs go down\\n- ETH goes down   \n",
              "'The Queen dies: Look back at Elizabeth II’s cl...   bright outfits and matching\\xa0hats https://t...   \n",
              "\n",
              "                                                                                       cleaned_tweets  \\\n",
              "'Herzogin Meghan begleitete Prinz Harry nicht        als die Queen verstarb. Jetzt könnte sie auch...   \n",
              "'Queen Elizabeth II - Committed Christian            Dies at 96 - End of an Era on Paul’s Defense ...   \n",
              "'1) Queen dies\\n2) Football postponed\\n3) Crist...   sale of vegetables outlawed https://t.co/UXEP...   \n",
              "'I don’t get it anymore.\\n- ETH goes up                                 NFTs go down\\n- ETH goes down   \n",
              "'The Queen dies: Look back at Elizabeth II’s cl...   bright outfits and matching\\xa0hats https://t...   \n",
              "\n",
              "                                                    sentiment_scores  \n",
              "'Herzogin Meghan begleitete Prinz Harry nicht                -0.5994  \n",
              "'Queen Elizabeth II - Committed Christian                     0.1280  \n",
              "'1) Queen dies\\n2) Football postponed\\n3) Crist...            0.0000  \n",
              "'I don’t get it anymore.\\n- ETH goes up                       0.0000  \n",
              "'The Queen dies: Look back at Elizabeth II’s cl...            0.4404  "
            ],
            "text/html": [
              "\n",
              "  <div id=\"df-3546b882-05ee-47be-a102-884da9a7569a\">\n",
              "    <div class=\"colab-df-container\">\n",
              "      <div>\n",
              "<style scoped>\n",
              "    .dataframe tbody tr th:only-of-type {\n",
              "        vertical-align: middle;\n",
              "    }\n",
              "\n",
              "    .dataframe tbody tr th {\n",
              "        vertical-align: top;\n",
              "    }\n",
              "\n",
              "    .dataframe thead th {\n",
              "        text-align: right;\n",
              "    }\n",
              "</style>\n",
              "<table border=\"1\" class=\"dataframe\">\n",
              "  <thead>\n",
              "    <tr style=\"text-align: right;\">\n",
              "      <th></th>\n",
              "      <th>content</th>\n",
              "      <th>cleaned_tweets</th>\n",
              "      <th>sentiment_scores</th>\n",
              "    </tr>\n",
              "  </thead>\n",
              "  <tbody>\n",
              "    <tr>\n",
              "      <th>'Herzogin Meghan begleitete Prinz Harry nicht</th>\n",
              "      <td>als die Queen verstarb. Jetzt könnte sie auch...</td>\n",
              "      <td>als die Queen verstarb. Jetzt könnte sie auch...</td>\n",
              "      <td>-0.5994</td>\n",
              "    </tr>\n",
              "    <tr>\n",
              "      <th>'Queen Elizabeth II - Committed Christian</th>\n",
              "      <td>Dies at 96 - End of an Era on Paul’s Defense ...</td>\n",
              "      <td>Dies at 96 - End of an Era on Paul’s Defense ...</td>\n",
              "      <td>0.1280</td>\n",
              "    </tr>\n",
              "    <tr>\n",
              "      <th>'1) Queen dies\\n2) Football postponed\\n3) Cristiano Ronaldo meets Jordan Peterson\\n...\\n12) Democratic institutions desolved in Portugal</th>\n",
              "      <td>sale of vegetables outlawed https://t.co/UXEP...</td>\n",
              "      <td>sale of vegetables outlawed https://t.co/UXEP...</td>\n",
              "      <td>0.0000</td>\n",
              "    </tr>\n",
              "    <tr>\n",
              "      <th>'I don’t get it anymore.\\n- ETH goes up</th>\n",
              "      <td>NFTs go down\\n- ETH goes down</td>\n",
              "      <td>NFTs go down\\n- ETH goes down</td>\n",
              "      <td>0.0000</td>\n",
              "    </tr>\n",
              "    <tr>\n",
              "      <th>'The Queen dies: Look back at Elizabeth II’s classic fashion sense</th>\n",
              "      <td>bright outfits and matching\\xa0hats https://t...</td>\n",
              "      <td>bright outfits and matching\\xa0hats https://t...</td>\n",
              "      <td>0.4404</td>\n",
              "    </tr>\n",
              "  </tbody>\n",
              "</table>\n",
              "</div>\n",
              "      <button class=\"colab-df-convert\" onclick=\"convertToInteractive('df-3546b882-05ee-47be-a102-884da9a7569a')\"\n",
              "              title=\"Convert this dataframe to an interactive table.\"\n",
              "              style=\"display:none;\">\n",
              "        \n",
              "  <svg xmlns=\"http://www.w3.org/2000/svg\" height=\"24px\"viewBox=\"0 0 24 24\"\n",
              "       width=\"24px\">\n",
              "    <path d=\"M0 0h24v24H0V0z\" fill=\"none\"/>\n",
              "    <path d=\"M18.56 5.44l.94 2.06.94-2.06 2.06-.94-2.06-.94-.94-2.06-.94 2.06-2.06.94zm-11 1L8.5 8.5l.94-2.06 2.06-.94-2.06-.94L8.5 2.5l-.94 2.06-2.06.94zm10 10l.94 2.06.94-2.06 2.06-.94-2.06-.94-.94-2.06-.94 2.06-2.06.94z\"/><path d=\"M17.41 7.96l-1.37-1.37c-.4-.4-.92-.59-1.43-.59-.52 0-1.04.2-1.43.59L10.3 9.45l-7.72 7.72c-.78.78-.78 2.05 0 2.83L4 21.41c.39.39.9.59 1.41.59.51 0 1.02-.2 1.41-.59l7.78-7.78 2.81-2.81c.8-.78.8-2.07 0-2.86zM5.41 20L4 18.59l7.72-7.72 1.47 1.35L5.41 20z\"/>\n",
              "  </svg>\n",
              "      </button>\n",
              "      \n",
              "  <style>\n",
              "    .colab-df-container {\n",
              "      display:flex;\n",
              "      flex-wrap:wrap;\n",
              "      gap: 12px;\n",
              "    }\n",
              "\n",
              "    .colab-df-convert {\n",
              "      background-color: #E8F0FE;\n",
              "      border: none;\n",
              "      border-radius: 50%;\n",
              "      cursor: pointer;\n",
              "      display: none;\n",
              "      fill: #1967D2;\n",
              "      height: 32px;\n",
              "      padding: 0 0 0 0;\n",
              "      width: 32px;\n",
              "    }\n",
              "\n",
              "    .colab-df-convert:hover {\n",
              "      background-color: #E2EBFA;\n",
              "      box-shadow: 0px 1px 2px rgba(60, 64, 67, 0.3), 0px 1px 3px 1px rgba(60, 64, 67, 0.15);\n",
              "      fill: #174EA6;\n",
              "    }\n",
              "\n",
              "    [theme=dark] .colab-df-convert {\n",
              "      background-color: #3B4455;\n",
              "      fill: #D2E3FC;\n",
              "    }\n",
              "\n",
              "    [theme=dark] .colab-df-convert:hover {\n",
              "      background-color: #434B5C;\n",
              "      box-shadow: 0px 1px 3px 1px rgba(0, 0, 0, 0.15);\n",
              "      filter: drop-shadow(0px 1px 2px rgba(0, 0, 0, 0.3));\n",
              "      fill: #FFFFFF;\n",
              "    }\n",
              "  </style>\n",
              "\n",
              "      <script>\n",
              "        const buttonEl =\n",
              "          document.querySelector('#df-3546b882-05ee-47be-a102-884da9a7569a button.colab-df-convert');\n",
              "        buttonEl.style.display =\n",
              "          google.colab.kernel.accessAllowed ? 'block' : 'none';\n",
              "\n",
              "        async function convertToInteractive(key) {\n",
              "          const element = document.querySelector('#df-3546b882-05ee-47be-a102-884da9a7569a');\n",
              "          const dataTable =\n",
              "            await google.colab.kernel.invokeFunction('convertToInteractive',\n",
              "                                                     [key], {});\n",
              "          if (!dataTable) return;\n",
              "\n",
              "          const docLinkHtml = 'Like what you see? Visit the ' +\n",
              "            '<a target=\"_blank\" href=https://colab.research.google.com/notebooks/data_table.ipynb>data table notebook</a>'\n",
              "            + ' to learn more about interactive tables.';\n",
              "          element.innerHTML = '';\n",
              "          dataTable['output_type'] = 'display_data';\n",
              "          await google.colab.output.renderOutput(dataTable, element);\n",
              "          const docLink = document.createElement('div');\n",
              "          docLink.innerHTML = docLinkHtml;\n",
              "          element.appendChild(docLink);\n",
              "        }\n",
              "      </script>\n",
              "    </div>\n",
              "  </div>\n",
              "  "
            ]
          },
          "metadata": {},
          "execution_count": 74
        }
      ]
    },
    {
      "cell_type": "markdown",
      "source": [
        "**importing nltk libraries and sentiment analyser from vader package**"
      ],
      "metadata": {
        "id": "PicNmBojQtHq"
      }
    },
    {
      "cell_type": "code",
      "source": [
        "import nltk\n",
        "nltk.download('vader_lexicon')\n",
        "from nltk.sentiment.vader import SentimentIntensityAnalyzer\n",
        "\n",
        "sid = SentimentIntensityAnalyzer()"
      ],
      "metadata": {
        "colab": {
          "base_uri": "https://localhost:8080/"
        },
        "id": "HH7QW-kB27Ti",
        "outputId": "0ac42a8e-58e9-439f-f56a-bf7d310e06c4"
      },
      "execution_count": 71,
      "outputs": [
        {
          "output_type": "stream",
          "name": "stderr",
          "text": [
            "[nltk_data] Downloading package vader_lexicon to /root/nltk_data...\n"
          ]
        }
      ]
    },
    {
      "cell_type": "markdown",
      "source": [
        "**removing data from non english since it can hamper with results**"
      ],
      "metadata": {
        "id": "778QhereQ9aY"
      }
    },
    {
      "cell_type": "code",
      "source": [
        "dfcontent['sentiment_scores'] = dfcontent['cleaned_tweets'].apply(lambda x: sid.polarity_scores(x)['compound'])\n",
        "dfcontent.drop(dfcontent[(dfcontent['sentiment_scores'] ==0)].index, inplace=True)\n",
        "dfcontent[['cleaned_tweets', 'sentiment_scores']].head(5)"
      ],
      "metadata": {
        "colab": {
          "base_uri": "https://localhost:8080/",
          "height": 206
        },
        "id": "bNp4sLfg3Cw5",
        "outputId": "9e90469a-7d5e-4c59-f063-328818686783"
      },
      "execution_count": 77,
      "outputs": [
        {
          "output_type": "execute_result",
          "data": {
            "text/plain": [
              "                                                                                       cleaned_tweets  \\\n",
              "'@filled_popcorn They will choke ooo                                            let them die abeg 😂😂'   \n",
              "'@rofhiwa_abigail @chucklateyeka Why nah 😂😂😂                come be say nah now wey our Queen don die   \n",
              "'Watching an Irish comedian 2 days after the qu...                             20/10 would recommend'   \n",
              "'Bin ich die Einzige                                            die wegen der Queen nicht traurig ist   \n",
              "'Shame. The next time we see the headline           The Queen Has Died will probably be when this ...   \n",
              "\n",
              "                                                    sentiment_scores  \n",
              "'@filled_popcorn They will choke ooo                         -0.5994  \n",
              "'@rofhiwa_abigail @chucklateyeka Why nah 😂😂😂                 -0.6486  \n",
              "'Watching an Irish comedian 2 days after the qu...            0.3612  \n",
              "'Bin ich die Einzige                                         -0.5994  \n",
              "'Shame. The next time we see the headline                    -0.5574  "
            ],
            "text/html": [
              "\n",
              "  <div id=\"df-9206cb0c-a698-46e8-9be7-8f99627a6807\">\n",
              "    <div class=\"colab-df-container\">\n",
              "      <div>\n",
              "<style scoped>\n",
              "    .dataframe tbody tr th:only-of-type {\n",
              "        vertical-align: middle;\n",
              "    }\n",
              "\n",
              "    .dataframe tbody tr th {\n",
              "        vertical-align: top;\n",
              "    }\n",
              "\n",
              "    .dataframe thead th {\n",
              "        text-align: right;\n",
              "    }\n",
              "</style>\n",
              "<table border=\"1\" class=\"dataframe\">\n",
              "  <thead>\n",
              "    <tr style=\"text-align: right;\">\n",
              "      <th></th>\n",
              "      <th>cleaned_tweets</th>\n",
              "      <th>sentiment_scores</th>\n",
              "    </tr>\n",
              "  </thead>\n",
              "  <tbody>\n",
              "    <tr>\n",
              "      <th>'@filled_popcorn They will choke ooo</th>\n",
              "      <td>let them die abeg 😂😂'</td>\n",
              "      <td>-0.5994</td>\n",
              "    </tr>\n",
              "    <tr>\n",
              "      <th>'@rofhiwa_abigail @chucklateyeka Why nah 😂😂😂</th>\n",
              "      <td>come be say nah now wey our Queen don die</td>\n",
              "      <td>-0.6486</td>\n",
              "    </tr>\n",
              "    <tr>\n",
              "      <th>'Watching an Irish comedian 2 days after the queen dies is an incomparable experience</th>\n",
              "      <td>20/10 would recommend'</td>\n",
              "      <td>0.3612</td>\n",
              "    </tr>\n",
              "    <tr>\n",
              "      <th>'Bin ich die Einzige</th>\n",
              "      <td>die wegen der Queen nicht traurig ist</td>\n",
              "      <td>-0.5994</td>\n",
              "    </tr>\n",
              "    <tr>\n",
              "      <th>'Shame. The next time we see the headline</th>\n",
              "      <td>The Queen Has Died will probably be when this ...</td>\n",
              "      <td>-0.5574</td>\n",
              "    </tr>\n",
              "  </tbody>\n",
              "</table>\n",
              "</div>\n",
              "      <button class=\"colab-df-convert\" onclick=\"convertToInteractive('df-9206cb0c-a698-46e8-9be7-8f99627a6807')\"\n",
              "              title=\"Convert this dataframe to an interactive table.\"\n",
              "              style=\"display:none;\">\n",
              "        \n",
              "  <svg xmlns=\"http://www.w3.org/2000/svg\" height=\"24px\"viewBox=\"0 0 24 24\"\n",
              "       width=\"24px\">\n",
              "    <path d=\"M0 0h24v24H0V0z\" fill=\"none\"/>\n",
              "    <path d=\"M18.56 5.44l.94 2.06.94-2.06 2.06-.94-2.06-.94-.94-2.06-.94 2.06-2.06.94zm-11 1L8.5 8.5l.94-2.06 2.06-.94-2.06-.94L8.5 2.5l-.94 2.06-2.06.94zm10 10l.94 2.06.94-2.06 2.06-.94-2.06-.94-.94-2.06-.94 2.06-2.06.94z\"/><path d=\"M17.41 7.96l-1.37-1.37c-.4-.4-.92-.59-1.43-.59-.52 0-1.04.2-1.43.59L10.3 9.45l-7.72 7.72c-.78.78-.78 2.05 0 2.83L4 21.41c.39.39.9.59 1.41.59.51 0 1.02-.2 1.41-.59l7.78-7.78 2.81-2.81c.8-.78.8-2.07 0-2.86zM5.41 20L4 18.59l7.72-7.72 1.47 1.35L5.41 20z\"/>\n",
              "  </svg>\n",
              "      </button>\n",
              "      \n",
              "  <style>\n",
              "    .colab-df-container {\n",
              "      display:flex;\n",
              "      flex-wrap:wrap;\n",
              "      gap: 12px;\n",
              "    }\n",
              "\n",
              "    .colab-df-convert {\n",
              "      background-color: #E8F0FE;\n",
              "      border: none;\n",
              "      border-radius: 50%;\n",
              "      cursor: pointer;\n",
              "      display: none;\n",
              "      fill: #1967D2;\n",
              "      height: 32px;\n",
              "      padding: 0 0 0 0;\n",
              "      width: 32px;\n",
              "    }\n",
              "\n",
              "    .colab-df-convert:hover {\n",
              "      background-color: #E2EBFA;\n",
              "      box-shadow: 0px 1px 2px rgba(60, 64, 67, 0.3), 0px 1px 3px 1px rgba(60, 64, 67, 0.15);\n",
              "      fill: #174EA6;\n",
              "    }\n",
              "\n",
              "    [theme=dark] .colab-df-convert {\n",
              "      background-color: #3B4455;\n",
              "      fill: #D2E3FC;\n",
              "    }\n",
              "\n",
              "    [theme=dark] .colab-df-convert:hover {\n",
              "      background-color: #434B5C;\n",
              "      box-shadow: 0px 1px 3px 1px rgba(0, 0, 0, 0.15);\n",
              "      filter: drop-shadow(0px 1px 2px rgba(0, 0, 0, 0.3));\n",
              "      fill: #FFFFFF;\n",
              "    }\n",
              "  </style>\n",
              "\n",
              "      <script>\n",
              "        const buttonEl =\n",
              "          document.querySelector('#df-9206cb0c-a698-46e8-9be7-8f99627a6807 button.colab-df-convert');\n",
              "        buttonEl.style.display =\n",
              "          google.colab.kernel.accessAllowed ? 'block' : 'none';\n",
              "\n",
              "        async function convertToInteractive(key) {\n",
              "          const element = document.querySelector('#df-9206cb0c-a698-46e8-9be7-8f99627a6807');\n",
              "          const dataTable =\n",
              "            await google.colab.kernel.invokeFunction('convertToInteractive',\n",
              "                                                     [key], {});\n",
              "          if (!dataTable) return;\n",
              "\n",
              "          const docLinkHtml = 'Like what you see? Visit the ' +\n",
              "            '<a target=\"_blank\" href=https://colab.research.google.com/notebooks/data_table.ipynb>data table notebook</a>'\n",
              "            + ' to learn more about interactive tables.';\n",
              "          element.innerHTML = '';\n",
              "          dataTable['output_type'] = 'display_data';\n",
              "          await google.colab.output.renderOutput(dataTable, element);\n",
              "          const docLink = document.createElement('div');\n",
              "          docLink.innerHTML = docLinkHtml;\n",
              "          element.appendChild(docLink);\n",
              "        }\n",
              "      </script>\n",
              "    </div>\n",
              "  </div>\n",
              "  "
            ]
          },
          "metadata": {},
          "execution_count": 77
        }
      ]
    },
    {
      "cell_type": "markdown",
      "source": [
        "Histogram of sentiment scores"
      ],
      "metadata": {
        "id": "ScZsXnGNKIdQ"
      }
    },
    {
      "cell_type": "code",
      "source": [
        "plot1=plt.hist(dfcontent['sentiment_scores']);\n",
        "plot1=plt.xlabel('sentiment scores');\n",
        "plot1=plt.ylabel('frequency');\n",
        "binedges=[-1 -0.9 -0.8 -0.]\n",
        "plt.show()"
      ],
      "metadata": {
        "colab": {
          "base_uri": "https://localhost:8080/",
          "height": 281
        },
        "id": "5Qh-lHlZKH0f",
        "outputId": "f23f1c16-6152-4f6a-dbad-25ca5f670543"
      },
      "execution_count": 78,
      "outputs": [
        {
          "output_type": "display_data",
          "data": {
            "text/plain": [
              "<Figure size 432x288 with 1 Axes>"
            ],
            "image/png": "[encoded data removed]"
          },
          "metadata": {
            "needs_background": "light"
          }
        }
      ]
    }
  ]
}